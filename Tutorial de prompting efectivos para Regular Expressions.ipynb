{
 "cells": [
  {
   "cell_type": "markdown",
   "id": "e2f0139a",
   "metadata": {},
   "source": [
    "# Tutorial de *prompting* efectivos para Regular Expressions\n",
    "\n",
    "\n",
    "Para comenzar con este tutorial, primero vamos a explicar cuáles son los significados de *prompting* y *Regular Expression*.\n",
    "\n",
    "    ¿Qué es el prompting? \n",
    "    \n",
    "    El prompting implica proporcionar una entrada inicial o un ejemplo para guiar la predicción de un modelo de lenguaje o de aprendizaje automático. Es especialmente útil cuando se busca que el modelo genere resultados específicos, como respuestas de chatbot, traducciones, respuestas a preguntas o texto creativo. Por ejemplo, en un chatbot, el prompting puede ser usado para iniciar la conversación y mejorar la comprensión del contexto, permitiendo respuestas más precisas y relevantes. Aquí tenemos un pequeño ejemplo:\n",
    "    \n",
    "        ## Ejemplo de Prompting en Jupyter Notebook\n",
    "\n",
    "            Consideremos un modelo simple que suma dos números. Utilizaremos un prompting para guiar al modelo.\n",
    "\n",
    "        ### Prompting:\n",
    "            Supongamos que queremos sumar los números 3 y 7.\n",
    "\n",
    "        ### Celda de Código:\n",
    "        ```python\n",
    "        # Suma de dos números\n",
    "        numero1 = 3\n",
    "        numero2 = 7\n",
    "        resultado = numero1 + numero2\n",
    "\n",
    "        print(f\"El resultado de la suma es: {resultado}\")\n",
    "    \n",
    "\n"
   ]
  },
  {
   "cell_type": "code",
   "execution_count": null,
   "id": "1fc34e8b",
   "metadata": {},
   "outputs": [],
   "source": []
  }
 ],
 "metadata": {
  "kernelspec": {
   "display_name": "Python 3 (ipykernel)",
   "language": "python",
   "name": "python3"
  },
  "language_info": {
   "codemirror_mode": {
    "name": "ipython",
    "version": 3
   },
   "file_extension": ".py",
   "mimetype": "text/x-python",
   "name": "python",
   "nbconvert_exporter": "python",
   "pygments_lexer": "ipython3",
   "version": "3.11.4"
  }
 },
 "nbformat": 4,
 "nbformat_minor": 5
}
