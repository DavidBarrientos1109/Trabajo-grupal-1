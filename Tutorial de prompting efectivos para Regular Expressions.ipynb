{
 "cells": [
  {
   "cell_type": "markdown",
   "id": "d782b356",
   "metadata": {},
   "source": [
    "# Tutorial de *prompting* efectivos para Regular Expressions\n",
    "\n",
    "\n",
    "Para comenzar con este tutorial, primero vamos a explicar cuáles son los significados de *prompting* y *Regular Expression*.\n",
    "\n",
    "    ¿Qué es el prompting? \n",
    "    \n",
    "    El prompting implica proporcionar una entrada inicial o un ejemplo para guiar la predicción de un modelo de lenguaje o de aprendizaje automático. Es especialmente útil cuando se busca que el modelo genere resultados específicos, como respuestas de chatbot, traducciones, respuestas a preguntas o texto creativo. Por ejemplo, en un chatbot, el prompting puede ser usado para iniciar la conversación y mejorar la comprensión del contexto, permitiendo respuestas más precisas y relevantes. Aquí tenemos un pequeño ejemplo:\n",
    "    \n",
    "        ## Ejemplo de Prompting en Jupyter Notebook\n",
    "\n",
    "            Consideremos un modelo simple que suma dos números. Utilizaremos un prompting para guiar al modelo.\n",
    "\n",
    "        ### Prompting:\n",
    "            Supongamos que queremos sumar los números 3 y 7.\n",
    "\n",
    "        ### Celda de Código:\n",
    "        ```python\n",
    "        # Suma de dos números\n",
    "        numero1 = 3\n",
    "        numero2 = 7\n",
    "        resultado = numero1 + numero2\n",
    "\n",
    "        print(f\"El resultado de la suma es: {resultado}\")\n",
    "    \n",
    "    ¿Qué son las Regular Expression?\n",
    "    \n",
    "    Las expresiones regulares, también conocidas como regex, son unidades de descripción de los lenguajes regulares que forman parte de los lenguajes formales. Estas expresiones son fundamentales en la informática teórica, proporcionando las bases para el desarrollo y ejecución de programas informáticos, así como para la construcción de compiladores necesarios en este proceso. Su uso principal se encuentra en el ámbito del desarrollo de software.\n",
    "\n",
    "    Cada expresión regular tiene asociado un autómata finito, también llamado máquina de estado finito, que acepta el lenguaje especificado por la expresión. La construcción de Thompson se utiliza para desarrollar este autómata a partir de una expresión regular. A su vez, para cada autómata finito, existe una expresión regular que describe el lenguaje aceptado por dicho autómata. La generación de esta expresión se puede realizar mediante el algoritmo de Kleene o la eliminación de estados. Estos conceptos son esenciales en la teoría de la computación y contribuyen significativamente al desarrollo de software y a la construcción de compiladores. \n",
    "\n",
    "\n",
    "![regex](https://miro.medium.com/v2/resize:fit:934/1*BNi_ga_frL-XnSZ31R4upA.png)\n",
    "\n",
    "   \n"
   ]
  },
  {
   "cell_type": "code",
   "execution_count": null,
   "id": "1cac3e8a",
   "metadata": {},
   "outputs": [],
   "source": []
  },
  {
   "cell_type": "code",
   "execution_count": null,
   "id": "0c998f15",
   "metadata": {},
   "outputs": [],
   "source": []
  }
 ],
 "metadata": {
  "kernelspec": {
   "display_name": "Python 3 (ipykernel)",
   "language": "python",
   "name": "python3"
  },
  "language_info": {
   "codemirror_mode": {
    "name": "ipython",
    "version": 3
   },
   "file_extension": ".py",
   "mimetype": "text/x-python",
   "name": "python",
   "nbconvert_exporter": "python",
   "pygments_lexer": "ipython3",
   "version": "3.11.4"
  }
 },
 "nbformat": 4,
 "nbformat_minor": 5
}
