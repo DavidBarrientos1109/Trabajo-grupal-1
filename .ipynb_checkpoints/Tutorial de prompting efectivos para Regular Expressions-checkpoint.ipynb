{
 "cells": [
  {
   "cell_type": "markdown",
   "id": "d782b356",
   "metadata": {},
   "source": [
    "# Tutorial de *prompting* efectivos para Regular Expressions\n",
    "\n",
    "\n",
    "Para comenzar con este tutorial, primero vamos a explicar cuáles son los significados de *prompting* y *Regular Expression*.\n",
    "\n",
    "¿Qué es el prompting? \n",
    "    \n",
    "El prompting implica proporcionar una entrada inicial o un ejemplo para guiar la predicción de un modelo de lenguaje o de aprendizaje automático. Es especialmente útil cuando se busca que el modelo genere resultados específicos, como respuestas de chatbot, traducciones, respuestas a preguntas o texto creativo. Por ejemplo, en un chatbot, el prompting puede ser usado para iniciar la conversación y mejorar la comprensión del contexto, permitiendo respuestas más precisas y relevantes. Aquí tenemos un pequeño ejemplo:\n",
    "    \n",
    "## Ejemplo de Prompting en Jupyter Notebook\n",
    "\n",
    "Consideremos un modelo simple que suma dos números. Utilizaremos un prompting para guiar al modelo.\n",
    "\n",
    " ### Prompting:\n",
    " Supongamos que queremos sumar los números 3 y 7.\n",
    "\n",
    " ### Celda de Código:"
   ]
  },
  {
   "cell_type": "code",
   "execution_count": 5,
   "id": "d5644ce8",
   "metadata": {},
   "outputs": [
    {
     "name": "stdout",
     "output_type": "stream",
     "text": [
      "El resultado de la suma es: 10\n"
     ]
    }
   ],
   "source": [
    "# Suma de dos números\n",
    "numero1 = 3\n",
    "numero2 = 7\n",
    "resultado = numero1 + numero2\n",
    "\n",
    "print(f\"El resultado de la suma es: {resultado}\")"
   ]
  },
  {
   "cell_type": "markdown",
   "id": "ce71aeca",
   "metadata": {},
   "source": [
    "## ¿Qué son las Regular Expression?\n",
    " Las expresiones regulares, también conocidas como regex, son unidades de descripción de los lenguajes regulares que forman parte de los lenguajes formales. Estas expresiones son fundamentales en la informática teórica, proporcionando las bases para el desarrollo y ejecución de programas informáticos, así como para la construcción de compiladores necesarios en este proceso. Su uso principal se encuentra en el ámbito del desarrollo de software.\n",
    "\n",
    "Cada expresión regular tiene asociado un autómata finito, también llamado máquina de estado finito, que acepta el lenguaje especificado por la expresión. La construcción de Thompson se utiliza para desarrollar este autómata a partir de una expresión regular. A su vez, para cada autómata finito, existe una expresión regular que describe el lenguaje aceptado por dicho autómata. La generación de esta expresión se puede realizar mediante el algoritmo de Kleene o la eliminación de estados. Estos conceptos son esenciales en la teoría de la computación y contribuyen significativamente al desarrollo de software y a la construcción de compiladores. \n",
    "\n",
    "\n",
    "![regex](https://miro.medium.com/v2/resize:fit:934/1*BNi_ga_frL-XnSZ31R4upA.png)\n",
    "\n",
    "## Paquete re de Python\n",
    "\n",
    "Las expresiones regulares, o RegEx, son una poderosa herramienta en Python que te permite buscar patrones específicos dentro de cadenas de caracteres. Para utilizar expresiones regulares en Python, necesitas importar el paquete incorporado llamado \"re\". A través de este paquete, puedes realizar búsquedas, coincidencias y manipulación de texto de una manera más avanzada que utilizando métodos de cadena convencionales.\n",
    "\n",
    "Aquí tenemos un ejemplo básico de cómo podemos utilizar expresiones regulares en Python:"
   ]
  },
  {
   "cell_type": "code",
   "execution_count": 35,
   "id": "fb96efc0",
   "metadata": {},
   "outputs": [
    {
     "name": "stdout",
     "output_type": "stream",
     "text": [
      "['Las', 'expresiones', 'regulares', 'son', 'poderosas', 'en', 'Python']\n"
     ]
    }
   ],
   "source": [
    "import re\n",
    "\n",
    "# Definir un patrón de expresión regular\n",
    "patron = r'\\b(\\w+)\\b'\n",
    "\n",
    "# Cadena de texto de ejemplo\n",
    "texto = \"Las expresiones regulares son poderosas en Python.\"\n",
    "\n",
    "# Buscar coincidencias en el texto utilizando el patrón\n",
    "coincidencias = re.findall(patron, texto)\n",
    "\n",
    "# Imprimir las coincidencias encontradas\n",
    "print(coincidencias)"
   ]
  },
  {
   "cell_type": "markdown",
   "id": "4ae1a809",
   "metadata": {},
   "source": [
    "En este ejemplo, el patrón \\b(\\w+)\\b busca palabras completas en el texto. Al ejecutar el código, obtendrías una lista de las palabras encontradas en la cadena de texto.\n",
    "Recuerda que las expresiones regulares ofrecen una gran flexibilidad y potencia. Puedes personalizar los patrones según tus necesidades para buscar y manipular patrones específicos en tus datos de texto."
   ]
  },
  {
   "cell_type": "markdown",
   "id": "d7653bd4",
   "metadata": {},
   "source": [
    "## Ejemplo de prompt en ChatGPT\n",
    "\n",
    "Primero le pedimos a ChatGPT que nos realice una lista de la temperatura de 5 provincias del Perú.\n",
    "### Prompting\n",
    "\n",
    "Genera una lista de las temperaturas de las 5 provincias del Perú, usando datos ficticios.\n",
    "    Al hacer esto ChatGPT nos va arrojar lo siguiente:\n",
    "    \n",
    "    Claro, aquí tienes una lista de temperaturas ficticias para las 5 provincias del Perú:\n",
    "    Lima: 25°C\n",
    "    Arequipa: 22°C\n",
    "    Cusco: 18°C\n",
    "    Trujillo: 27°C\n",
    "    Iquitos: 30°C\n",
    "    Recuerda que estos valores son completamente ficticios y no representan las condiciones climáticas reales en esas provincias.\n",
    "    \n",
    "A continuación le pedimos que de los siguientes datos me de el departamento y su temepratura respectiva en base a expresiones regulares, ingresando el siguiente *prompt*:\n",
    "**Ahora realiza una expresion regular para obtener dicho departamento y su temperatura en jupyter**\n"
   ]
  },
  {
   "cell_type": "code",
   "execution_count": 36,
   "id": "5dec937a",
   "metadata": {},
   "outputs": [
    {
     "name": "stdout",
     "output_type": "stream",
     "text": [
      "Departamento: Lima, Temperatura: 25°C\n",
      "Departamento: Arequipa, Temperatura: 22°C\n",
      "Departamento: Cusco, Temperatura: 18°C\n",
      "Departamento: Trujillo, Temperatura: 27°C\n",
      "Departamento: Iquitos, Temperatura: 30°C\n"
     ]
    }
   ],
   "source": [
    "# Código\n",
    "\n",
    "import re\n",
    "\n",
    "texto = \"1. Lima: 25°C\\n2. Arequipa: 22°C\\n3. Cusco: 18°C\\n4. Trujillo: 27°C\\n5. Iquitos: 30°C\"\n",
    "\n",
    "patron = r'(\\d+)\\. (\\w+): (\\d+)°C'\n",
    "\n",
    "resultados = re.findall(patron, texto)\n",
    "\n",
    "for resultado in resultados:\n",
    "    departamento = resultado[1]\n",
    "    temperatura = resultado[2]\n",
    "    print(f\"Departamento: {departamento}, Temperatura: {temperatura}°C\")\n"
   ]
  },
  {
   "cell_type": "code",
   "execution_count": null,
   "id": "cb92b4ea",
   "metadata": {},
   "outputs": [],
   "source": []
  }
 ],
 "metadata": {
  "kernelspec": {
   "display_name": "Python 3 (ipykernel)",
   "language": "python",
   "name": "python3"
  },
  "language_info": {
   "codemirror_mode": {
    "name": "ipython",
    "version": 3
   },
   "file_extension": ".py",
   "mimetype": "text/x-python",
   "name": "python",
   "nbconvert_exporter": "python",
   "pygments_lexer": "ipython3",
   "version": "3.11.4"
  }
 },
 "nbformat": 4,
 "nbformat_minor": 5
}
